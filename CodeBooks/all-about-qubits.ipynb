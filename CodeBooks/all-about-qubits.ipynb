{
 "cells": [
  {
   "cell_type": "markdown",
   "metadata": {},
   "source": [
    "### Codercise l.1.1 (Normalizeation of quantum state)"
   ]
  },
  {
   "cell_type": "code",
   "execution_count": 3,
   "metadata": {},
   "outputs": [
    {
     "name": "stdout",
     "output_type": "stream",
     "text": [
      "[0.4472136  0.89442719]\n"
     ]
    }
   ],
   "source": [
    "import numpy as np\n",
    "\n",
    "\n",
    "def normalize_state(alpha, beta):\n",
    "    \"\"\"Compute a normalized quantum state given arbitrary amplitudes.\n",
    "\n",
    "    Args:\n",
    "        alpha (complex): The amplitude associated with the |0> state.\n",
    "        beta (complex): The amplitude associated with the |1> state.\n",
    "\n",
    "    Returns:\n",
    "        np.array[complex]: A vector (numpy array) with 2 elements that represents\n",
    "        a normalized quantum state.\n",
    "    \"\"\"\n",
    "    # Compute the norm (magnitude) of the state vector\n",
    "    norm = np.sqrt(np.abs(alpha)**2 + np.abs(beta)**2)\n",
    "\n",
    "    # Normalize the amplitudes\n",
    "    alpha_prime = alpha / norm\n",
    "    beta_prime = beta / norm\n",
    "\n",
    "    # Create and return the normalized state vector\n",
    "    return np.array([alpha_prime, beta_prime])\n",
    "\n",
    "\n",
    "# Example usage\n",
    "alpha = 1 + 1j\n",
    "beta = 1 - 1j\n",
    "normalized_state = normalize_state(alpha, beta)\n",
    "print(normalized_state)"
   ]
  },
  {
   "cell_type": "markdown",
   "metadata": {},
   "source": [
    "$np.abs(alpha)**2$ computes the squared magnitude of alpha.\n",
    "$np.abs(beta)**2$ computes the squared magnitude of beta.\n",
    "$np.sqrt(...)$ computes the square root of the sum of the squared magnitudes of alpha and beta.\n",
    "norm now holds the magnitude of the vector represented by alpha and beta."
   ]
  },
  {
   "cell_type": "markdown",
   "metadata": {},
   "source": [
    "### Codercise l.1.2 (Inner product & orthonormal base)"
   ]
  },
  {
   "cell_type": "markdown",
   "metadata": {},
   "source": [
    "Complete the inner_product function below that computes the inner product between two arbitrary states. Then, use it to verify that |0> and |1> form an orthonormal basis, i.e., the states are normalized and orthogonal."
   ]
  },
  {
   "cell_type": "code",
   "execution_count": 1,
   "metadata": {},
   "outputs": [
    {
     "name": "stdout",
     "output_type": "stream",
     "text": [
      "<0|0> = 1\n",
      "<0|1> = 0\n",
      "<1|0> = 0\n",
      "<1|1> = 1\n"
     ]
    }
   ],
   "source": [
    "import numpy as np\n",
    "def inner_product(state_1, state_2):\n",
    "    \"\"\"Compute the inner product between two states.\n",
    "\n",
    "    Args:\n",
    "        state_1 (np.array[complex]): A normalized quantum state vector\n",
    "        state_2 (np.array[complex]): A second normalized quantum state vector\n",
    "\n",
    "    Returns:\n",
    "        complex: The value of the inner product <state_1 | state_2>.\n",
    "    \"\"\"\n",
    "\n",
    "    # Compute the conjugate of state_1\n",
    "    state_1_conj = np.conj(state_1)\n",
    "\n",
    "    # Compute the element-wise product of state_1_conj and state_2\n",
    "    product = state_1_conj * state_2\n",
    "    # Sum the elements of the product\n",
    "    inner_prod = np.sum(product)\n",
    "    \n",
    "    return inner_prod\n",
    "\n",
    "\n",
    "# Test your results with this code\n",
    "ket_0 = np.array([1, 0])\n",
    "ket_1 = np.array([0, 1])\n",
    "\n",
    "print(f\"<0|0> = {inner_product(ket_0, ket_0)}\")\n",
    "print(f\"<0|1> = {inner_product(ket_0, ket_1)}\")\n",
    "print(f\"<1|0> = {inner_product(ket_1, ket_0)}\")\n",
    "print(f\"<1|1> = {inner_product(ket_1, ket_1)}\")\n"
   ]
  },
  {
   "cell_type": "markdown",
   "metadata": {},
   "source": [
    "### Codercise I.1.3 — Sampling measurement outcomes"
   ]
  },
  {
   "cell_type": "code",
   "execution_count": 21,
   "metadata": {},
   "outputs": [
    {
     "data": {
      "text/plain": [
       "array([0, 1, 0, 1, 0, 0, 0, 0, 0, 0])"
      ]
     },
     "execution_count": 21,
     "metadata": {},
     "output_type": "execute_result"
    }
   ],
   "source": [
    "def measure_state(state, num_meas):\n",
    "    \"\"\"Simulate a quantum measurement process.\n",
    "\n",
    "    Args:\n",
    "        state (np.array[complex]): A normalized qubit state vector.\n",
    "        num_meas (int): The number of measurements to take\n",
    "\n",
    "    Returns:\n",
    "        np.array[int]: A set of num_meas samples, 0 or 1, chosen according to the probability\n",
    "        distribution defined by the input state.\n",
    "    \"\"\"\n",
    "\n",
    "    # Compute the measurement outcome probabilities\n",
    "    prob_0 = np.abs(state[0])**2\n",
    "    prob_1 = np.abs(state[1])**2\n",
    "\n",
    "  # Generate random numbers for each measurement\n",
    "    random_numbers = np.random.rand(num_meas)\n",
    "\n",
    "  # Determine the measurement outcomes based on probabilities\n",
    "    measurements = np.where(random_numbers <= prob_0, 0, 1)\n",
    "\n",
    "    return measurements\n",
    "    pass\n",
    "\n",
    "state = np.array([0.8, 0.6])\n",
    "measure_state(state, 10)"
   ]
  },
  {
   "cell_type": "markdown",
   "metadata": {},
   "source": [
    "### Codercise I.1.4 — Applying a quantum operation"
   ]
  },
  {
   "cell_type": "code",
   "execution_count": 24,
   "metadata": {},
   "outputs": [
    {
     "name": "stdout",
     "output_type": "stream",
     "text": [
      "Output state: [[0.70710678]\n",
      " [0.70710678]]\n",
      "[[1]\n",
      " [0]]\n"
     ]
    }
   ],
   "source": [
    "import numpy as np\n",
    "\n",
    "U = np.array([[1, 1], [1, -1]]) / np.sqrt(2)\n",
    "\n",
    "def apply_u(state):\n",
    "    \"\"\"Apply a quantum operation.\n",
    "\n",
    "    Args:\n",
    "        state (np.array[complex]): A normalized quantum state vector.\n",
    "\n",
    "    Returns:\n",
    "        np.array[complex]: The output state after applying U.\n",
    "    \"\"\"\n",
    "    # # Ensure the state is a column vector\n",
    "    # state = state.reshape(-1, 1)\n",
    "    \n",
    "    # Apply the unitary matrix U to the input state\n",
    "    new_state = np.dot(U, state.reshape(-1, 1))\n",
    "    \n",
    "    return new_state\n",
    "\n",
    "# Example usage\n",
    "initial_state = np.array([1, 0])  # |0⟩ state\n",
    "output_state = apply_u(initial_state)\n",
    "print(\"Output state:\", output_state)"
   ]
  }
 ],
 "metadata": {
  "kernelspec": {
   "display_name": "pennylane-AI-env",
   "language": "python",
   "name": "python3"
  },
  "language_info": {
   "codemirror_mode": {
    "name": "ipython",
    "version": 3
   },
   "file_extension": ".py",
   "mimetype": "text/x-python",
   "name": "python",
   "nbconvert_exporter": "python",
   "pygments_lexer": "ipython3",
   "version": "3.12.4"
  }
 },
 "nbformat": 4,
 "nbformat_minor": 2
}
