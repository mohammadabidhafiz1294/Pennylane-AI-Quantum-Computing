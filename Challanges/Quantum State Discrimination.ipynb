{
 "cells": [
  {
   "cell_type": "code",
   "execution_count": 1,
   "metadata": {},
   "outputs": [
    {
     "name": "stdout",
     "output_type": "stream",
     "text": [
      "Running test case 0 with input '[0, 0.7853981633974483, 0.25, 0.75]'...\n",
      "Correct!\n",
      "Running test case 1 with input '[1.83259571459, 1.88495559215, 0.5, 0.5]'...\n",
      "Correct!\n"
     ]
    }
   ],
   "source": [
    "import json\n",
    "import pennylane as qml\n",
    "import pennylane.numpy as np\n",
    "def maximal_probability(theta_1, theta_2, p_1, p_2):\n",
    "\n",
    "    \"\"\"\n",
    "    This function calculates the maximal probability of distinguishing\n",
    "    the states\n",
    "\n",
    "    Args:\n",
    "        theta_1 (float): Angle parametrizing the state |phi_1>.\n",
    "        theta_2 (float): Angle parametrizing the state |phi_2>.\n",
    "        p_1 (float): Probability that the state was |phi_1>.\n",
    "        p_2 (float): Probability that the state was |phi_2>.\n",
    "\n",
    "    Returns:\n",
    "        (Union[float, np.tensor]): Maximal probability of distinguishing the states.\n",
    "    \n",
    "    \"\"\"\n",
    "\n",
    "    # Put your code here\n",
    "    phi_1 = np.array([np.cos(theta_1), np.sin(theta_1)])\n",
    "    phi_2 = np.array([np.cos(theta_2), np.sin(theta_2)])\n",
    "\n",
    "    # Construct the operator Delta\n",
    "    Delta = p_1 * np.outer(phi_1, np.conj(phi_1)) - p_2 * np.outer(phi_2, np.conj(phi_2))\n",
    "    \n",
    "    # Calculate the eigenvalues of Delta\n",
    "    eigenvalues, _ = np.linalg.eigh(Delta)\n",
    "    \n",
    "    # Compute the maximum probability\n",
    "    P_max = 0.5 + 0.5 * np.sum(np.abs(eigenvalues))\n",
    "    \n",
    "    return P_max\n",
    "    # Return the highest probability of distinguishing the states\n",
    "\n",
    "# These functions are responsible for testing the solution.\n",
    "\n",
    "\n",
    "def run(test_case_input: str) -> str:\n",
    "    theta1, theta2, p_1, p_2 = json.loads(test_case_input)\n",
    "    prob = np.array(maximal_probability(theta1, theta2, p_1, p_2)).numpy()\n",
    "\n",
    "    return str(prob)\n",
    "\n",
    "\n",
    "def check(solution_output: str, expected_output: str) -> None:\n",
    "    solution_output = json.loads(solution_output)\n",
    "    expected_output = json.loads(expected_output)\n",
    "\n",
    "    assert np.allclose(solution_output, expected_output, rtol=1e-4)\n",
    "\n",
    "# These are the public test cases\n",
    "test_cases = [\n",
    "    ('[0, 0.7853981633974483, 0.25, 0.75]', '0.8952847075210476'),\n",
    "    ('[1.83259571459, 1.88495559215, 0.5, 0.5]', '0.52616798')\n",
    "]\n",
    "# This will run the public test cases locally\n",
    "for i, (input_, expected_output) in enumerate(test_cases):\n",
    "    print(f\"Running test case {i} with input '{input_}'...\")\n",
    "\n",
    "    try:\n",
    "        output = run(input_)\n",
    "\n",
    "    except Exception as exc:\n",
    "        print(f\"Runtime Error. {exc}\")\n",
    "\n",
    "    else:\n",
    "        if message := check(output, expected_output):\n",
    "            print(f\"Wrong Answer. Have: '{output}'. Want: '{expected_output}'.\")\n",
    "\n",
    "        else:\n",
    "            print(\"Correct!\")"
   ]
  }
 ],
 "metadata": {
  "kernelspec": {
   "display_name": ".venv",
   "language": "python",
   "name": "python3"
  },
  "language_info": {
   "codemirror_mode": {
    "name": "ipython",
    "version": 3
   },
   "file_extension": ".py",
   "mimetype": "text/x-python",
   "name": "python",
   "nbconvert_exporter": "python",
   "pygments_lexer": "ipython3",
   "version": "3.12.4"
  }
 },
 "nbformat": 4,
 "nbformat_minor": 2
}
